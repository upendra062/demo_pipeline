{
 "cells": [
  {
   "cell_type": "code",
   "execution_count": 1,
   "metadata": {},
   "outputs": [
    {
     "name": "stdout",
     "output_type": "stream",
     "text": [
      "# conda environments:\n",
      "#\n",
      "base                     /home/rocky/anaconda3\n",
      "BrandMeasure             /home/rocky/anaconda3/envs/BrandMeasure\n",
      "birnn                    /home/rocky/anaconda3/envs/birnn\n",
      "janu                     /home/rocky/anaconda3/envs/janu\n",
      "megaproject              /home/rocky/anaconda3/envs/megaproject\n",
      "nlp                      /home/rocky/anaconda3/envs/nlp\n",
      "pandas_numpy             /home/rocky/anaconda3/envs/pandas_numpy\n",
      "tensorflow               /home/rocky/anaconda3/envs/tensorflow\n",
      "tfod2                    /home/rocky/anaconda3/envs/tfod2\n",
      "upe_first                /home/rocky/anaconda3/envs/upe_first\n",
      "yolo_pcb                 /home/rocky/anaconda3/envs/yolo_pcb\n",
      "yolo_v5                  /home/rocky/anaconda3/envs/yolo_v5\n",
      "                      *  /home/rocky/full_stack_dataScience/9project_basic/demo_pipeline/venv\n",
      "\n"
     ]
    }
   ],
   "source": [
    "!conda env list"
   ]
  },
  {
   "cell_type": "code",
   "execution_count": 2,
   "metadata": {},
   "outputs": [],
   "source": [
    "import pandas as pd"
   ]
  },
  {
   "cell_type": "code",
   "execution_count": 4,
   "metadata": {},
   "outputs": [],
   "source": [
    "import numpy as np"
   ]
  },
  {
   "cell_type": "code",
   "execution_count": null,
   "metadata": {},
   "outputs": [],
   "source": []
  }
 ],
 "metadata": {
  "kernelspec": {
   "display_name": "Python 3",
   "language": "python",
   "name": "python3"
  },
  "language_info": {
   "codemirror_mode": {
    "name": "ipython",
    "version": 3
   },
   "file_extension": ".py",
   "mimetype": "text/x-python",
   "name": "python",
   "nbconvert_exporter": "python",
   "pygments_lexer": "ipython3",
   "version": "3.8.16"
  },
  "orig_nbformat": 4
 },
 "nbformat": 4,
 "nbformat_minor": 2
}
